{
 "cells": [
  {
   "cell_type": "markdown",
   "id": "1a64bc01-77f5-4c96-b281-167cb9638828",
   "metadata": {},
   "source": [
    "# Script for getting stream data of earthquakes from last 7 days updated every minute from https://earthquake.usgs.gov/fdsnws/event/1/#format-geojson"
   ]
  },
  {
   "cell_type": "code",
   "execution_count": 1,
   "id": "dd4bb4d5-05a4-4f70-b1ee-088debeeb39e",
   "metadata": {},
   "outputs": [],
   "source": [
    "import requests\n",
    "import time\n",
    "import json"
   ]
  },
  {
   "cell_type": "code",
   "execution_count": 4,
   "id": "d14e326d-ad2b-4fe0-ad5d-4eb91dc24642",
   "metadata": {},
   "outputs": [
    {
     "name": "stdout",
     "output_type": "stream",
     "text": [
      "File overwritten with 1656 values.\n",
      "File overwritten with 1656 values.\n",
      "File overwritten with 1656 values.\n",
      "File overwritten with 1658 values.\n",
      "File overwritten with 1658 values.\n",
      "File overwritten with 1657 values.\n",
      "\n",
      "Program interrupted. Exiting...\n"
     ]
    }
   ],
   "source": [
    "def fetch_earthquake_data():\n",
    "    url = \"https://earthquake.usgs.gov/earthquakes/feed/v1.0/summary/all_week.geojson\"\n",
    "    try:\n",
    "        while True:\n",
    "            response = requests.get(url)\n",
    "            if response.status_code == 200:\n",
    "                # Parse the JSON data\n",
    "                data = response.json()\n",
    "                features = data[\"features\"]  # Each earthquake is in the \"features\" list\n",
    "\n",
    "                # Write each earthquake record to the file\n",
    "                with open(\"data_earthquake.txt\", \"a\", encoding=\"utf-8\") as file:\n",
    "                    file.truncate(0)  # Empty the file\n",
    "                    for feature in features:\n",
    "                        # Dump the JSON as a string for each feature\n",
    "                        file.write(json.dumps(feature) + \"\\n\")\n",
    "\n",
    "                print(f\"File overwritten with {len(features)} values.\")\n",
    "                \n",
    "            else:\n",
    "                print(f\"Failed to get data: {response.status_code}\") # If API is not available\n",
    "\n",
    "            # Get new data every minute\n",
    "            time.sleep(60)\n",
    "\n",
    "    except KeyboardInterrupt:  # End of the program \n",
    "        print(\"\\nProgram interrupted. Exiting...\")\n",
    "\n",
    "if __name__ == \"__main__\":\n",
    "    fetch_earthquake_data()"
   ]
  }
 ],
 "metadata": {
  "kernelspec": {
   "display_name": "Python 3 (ipykernel)",
   "language": "python",
   "name": "python3"
  },
  "language_info": {
   "codemirror_mode": {
    "name": "ipython",
    "version": 3
   },
   "file_extension": ".py",
   "mimetype": "text/x-python",
   "name": "python",
   "nbconvert_exporter": "python",
   "pygments_lexer": "ipython3",
   "version": "3.12.3"
  }
 },
 "nbformat": 4,
 "nbformat_minor": 5
}
